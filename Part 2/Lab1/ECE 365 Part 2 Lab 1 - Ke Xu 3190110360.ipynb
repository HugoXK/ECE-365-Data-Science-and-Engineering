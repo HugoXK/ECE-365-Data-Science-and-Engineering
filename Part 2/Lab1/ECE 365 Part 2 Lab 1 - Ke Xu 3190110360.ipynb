{
 "cells": [
  {
   "cell_type": "markdown",
   "metadata": {},
   "source": [
    "# Part 2, Lab #1: Image Classification"
   ]
  },
  {
   "cell_type": "markdown",
   "metadata": {},
   "source": [
    "Ke Xu 3190110360"
   ]
  },
  {
   "cell_type": "markdown",
   "metadata": {},
   "source": [
    "### Due March 29th, 2023 11:59 PM CST"
   ]
  },
  {
   "cell_type": "markdown",
   "metadata": {},
   "source": [
    "#### Logistics and Lab Submission"
   ]
  },
  {
   "cell_type": "markdown",
   "metadata": {},
   "source": [
    "See the **BlackBoard**."
   ]
  },
  {
   "cell_type": "markdown",
   "metadata": {},
   "source": [
    "#### What You Will Need To Know For This Lab"
   ]
  },
  {
   "cell_type": "markdown",
   "metadata": {},
   "source": [
    "This lab covers:\n",
    "\n",
    "- Design the dataset.\n",
    "- Design the convolutional neural network for the image classification.\n",
    "- Training and testing the model.\n",
    "\n",
    "The submission procedure is provided below:\n",
    "- You will be provided with a Jupyter Notebook for this lab where you need to implement the provided functions as needed for each question. Follow the instructions provided in this Jupyter Notebook (.ipynb) to implement the required functions. \n",
    "- Upload the **PDF** (screen shot) file of your Jupyter Notebook (.ipynb file).\n",
    "- Your grades and feedbacks will appear on BlackBoard. You will have a chance to re-submit your code, only if you have *reasonable* submissions before the deadline (i.e. not an empty script)."
   ]
  },
  {
   "cell_type": "markdown",
   "metadata": {},
   "source": [
    "# Problem 1 : Install packages(15 points)"
   ]
  },
  {
   "cell_type": "markdown",
   "metadata": {},
   "source": [
    "In this section, you will install PIL, pytorch packages. You should follow these commands to install and print results. Note that, we only use pytorch in CPU version. If you want to install pytorch in GPU version, please install from [pytorch.org](https://pytorch.org/get-started/locally/)."
   ]
  },
  {
   "cell_type": "code",
   "execution_count": 1,
   "metadata": {},
   "outputs": [
    {
     "name": "stdout",
     "output_type": "stream",
     "text": [
      "Requirement already satisfied: torch in /Users/xuke/opt/anaconda3/lib/python3.9/site-packages (2.0.0)\n",
      "Requirement already satisfied: jinja2 in /Users/xuke/opt/anaconda3/lib/python3.9/site-packages (from torch) (2.11.3)\n",
      "Requirement already satisfied: sympy in /Users/xuke/opt/anaconda3/lib/python3.9/site-packages (from torch) (1.10.1)\n",
      "Requirement already satisfied: networkx in /Users/xuke/opt/anaconda3/lib/python3.9/site-packages (from torch) (2.8.4)\n",
      "Requirement already satisfied: typing-extensions in /Users/xuke/opt/anaconda3/lib/python3.9/site-packages (from torch) (4.3.0)\n",
      "Requirement already satisfied: filelock in /Users/xuke/opt/anaconda3/lib/python3.9/site-packages (from torch) (3.6.0)\n",
      "Requirement already satisfied: MarkupSafe>=0.23 in /Users/xuke/opt/anaconda3/lib/python3.9/site-packages (from jinja2->torch) (2.0.1)\n",
      "Requirement already satisfied: mpmath>=0.19 in /Users/xuke/opt/anaconda3/lib/python3.9/site-packages (from sympy->torch) (1.2.1)\n",
      "Requirement already satisfied: pillow in /Users/xuke/opt/anaconda3/lib/python3.9/site-packages (9.2.0)\n"
     ]
    }
   ],
   "source": [
    "!pip install torch\n",
    "!pip install pillow"
   ]
  },
  {
   "cell_type": "markdown",
   "metadata": {},
   "source": [
    "Use torch to generate a zero matrix in shape (2,3). load and print the size of image \"test.jpg\"."
   ]
  },
  {
   "cell_type": "code",
   "execution_count": 7,
   "metadata": {},
   "outputs": [
    {
     "name": "stdout",
     "output_type": "stream",
     "text": [
      "Zero Tensor:\n",
      "tensor([[0., 0., 0.],\n",
      "        [0., 0., 0.]])\n",
      "image shape is: (533, 800, 3)\n"
     ]
    }
   ],
   "source": [
    "import torch\n",
    "import numpy as np\n",
    "from PIL import Image\n",
    "print(\"Zero Tensor:\")\n",
    "print(torch.zeros(2, 3))\n",
    "\n",
    "test_img = np.array(Image.open('test.jpg'))\n",
    "print(\"image shape is:\",test_img.shape)"
   ]
  },
  {
   "cell_type": "markdown",
   "metadata": {},
   "source": [
    "## Problem 2: Define dataset (15 points)"
   ]
  },
  {
   "cell_type": "markdown",
   "metadata": {},
   "source": [
    "Desing a **Dataloader** for the dataset. Print the 10th image size and label. Note that batch size is 1."
   ]
  },
  {
   "cell_type": "code",
   "execution_count": 3,
   "metadata": {},
   "outputs": [
    {
     "name": "stdout",
     "output_type": "stream",
     "text": [
      "This is 10th image\n",
      "img shape:  torch.Size([1, 3, 256, 256])\n",
      "label:  ['bees']\n"
     ]
    }
   ],
   "source": [
    "from torch.utils.data import Dataset, DataLoader\n",
    "#import numpy as np\n",
    "#from PIL import Image\n",
    "import os\n",
    "from torchvision import transforms\n",
    "from torchvision.utils import make_grid\n",
    "\n",
    "\n",
    "class MyData(Dataset):\n",
    "\n",
    "    def __init__(self, root_dir, image_dir, label_dir, transform):\n",
    "        self.root_dir = root_dir\n",
    "        self.image_dir = image_dir\n",
    "        self.label_dir = label_dir\n",
    "        self.label_path = os.path.join(self.root_dir, self.label_dir)\n",
    "        self.image_path = os.path.join(self.root_dir, self.image_dir)\n",
    "        self.image_list = os.listdir(self.image_path)\n",
    "        self.label_list = os.listdir(self.label_path)\n",
    "        self.transform = transform\n",
    "        self.image_list.sort()\n",
    "        self.label_list.sort()\n",
    "\n",
    "    def __getitem__(self, idx):\n",
    "        img_name = self.image_list[idx]\n",
    "        label_name = self.label_list[idx]\n",
    "        img_item_path = os.path.join(self.root_dir, self.image_dir, img_name)\n",
    "        label_item_path = os.path.join(self.root_dir, self.label_dir, label_name)\n",
    "        img = Image.open(img_item_path)\n",
    "\n",
    "        with open(label_item_path, 'r') as f:\n",
    "            label = f.readline()\n",
    "\n",
    "        img = self.transform(img)\n",
    "        sample = {'img': img, 'label': label}\n",
    "        return sample\n",
    "\n",
    "    def __len__(self):\n",
    "        assert len(self.image_list) == len(self.label_list)\n",
    "        return len(self.image_list)\n",
    "\n",
    "if __name__ == '__main__':\n",
    "    #transform\n",
    "    transform = transforms.Compose([transforms.Resize((256, 256)), transforms.ToTensor()])\n",
    "\n",
    "    #dataset\n",
    "    root_dir = \"./dataset/train\"\n",
    "    image_bees = \"bees_image\"\n",
    "    label_bees = \"bees_label\"\n",
    "    bees_dataset = MyData(root_dir, image_bees, label_bees, transform)\n",
    "    train_dataset = bees_dataset\n",
    "\n",
    "    #dataloader\n",
    "    dataloader = DataLoader(train_dataset, batch_size=1, num_workers=0,shuffle = True)\n",
    "    \n",
    "    for ind, data in enumerate(dataloader):\n",
    "        if ind == 9:\n",
    "            print(\"This is 10th image\")\n",
    "            print(\"img shape: \",data['img'].shape)\n",
    "            print(\"label: \",data['label'])"
   ]
  },
  {
   "cell_type": "markdown",
   "metadata": {},
   "source": [
    "## Problem 3: Design an image classification network (70 points)"
   ]
  },
  {
   "cell_type": "markdown",
   "metadata": {},
   "source": [
    "In this problem, you should build a image classifier by design the network, training the network and testing the model. The dataset is Cifar-10."
   ]
  },
  {
   "cell_type": "markdown",
   "metadata": {},
   "source": [
    "### Problem 3-1: Design a network and print the structure as shown in the output. (20 points)"
   ]
  },
  {
   "cell_type": "code",
   "execution_count": 4,
   "metadata": {},
   "outputs": [
    {
     "name": "stdout",
     "output_type": "stream",
     "text": [
      "Net(\n",
      "  (model): Sequential(\n",
      "    (0): Conv2d(3, 32, kernel_size=(5, 5), stride=(1, 1), padding=(2, 2))\n",
      "    (1): MaxPool2d(kernel_size=2, stride=2, padding=0, dilation=1, ceil_mode=False)\n",
      "    (2): Conv2d(32, 32, kernel_size=(5, 5), stride=(1, 1), padding=(2, 2))\n",
      "    (3): MaxPool2d(kernel_size=2, stride=2, padding=0, dilation=1, ceil_mode=False)\n",
      "    (4): Conv2d(32, 64, kernel_size=(5, 5), stride=(1, 1), padding=(2, 2))\n",
      "    (5): MaxPool2d(kernel_size=2, stride=2, padding=0, dilation=1, ceil_mode=False)\n",
      "    (6): Flatten(start_dim=1, end_dim=-1)\n",
      "    (7): Linear(in_features=1024, out_features=64, bias=True)\n",
      "    (8): Linear(in_features=64, out_features=10, bias=True)\n",
      "  )\n",
      ")\n"
     ]
    }
   ],
   "source": [
    "import torch\n",
    "from torch import nn\n",
    "import torch.nn.functional as F\n",
    "\n",
    "class Net(nn.Module):\n",
    "    def __init__(self):\n",
    "        super(Net, self).__init__()\n",
    "        # you should initialize the Net\n",
    "        self.model = nn.Sequential(\n",
    "            nn.Conv2d(3, 32, 5, 1, 2),\n",
    "            nn.MaxPool2d(2),\n",
    "            nn.Conv2d(32, 32, 5, 1, 2),\n",
    "            nn.MaxPool2d(2),\n",
    "            nn.Conv2d(32, 64, 5, 1, 2),\n",
    "            nn.MaxPool2d(2),\n",
    "            nn.Flatten(),\n",
    "            nn.Linear(64*4*4, 64),\n",
    "            nn.Linear(64, 10)\n",
    "        )\n",
    "        \n",
    "    def forward(self, x):\n",
    "        # you should define the forward\n",
    "        output = self.model(x)\n",
    "        return output\n",
    "\n",
    "if __name__ == '__main__':\n",
    "    net = Net()\n",
    "    print(net)"
   ]
  },
  {
   "cell_type": "markdown",
   "metadata": {},
   "source": [
    "### Problem 3-2: Training the network (25 points)"
   ]
  },
  {
   "cell_type": "markdown",
   "metadata": {},
   "source": [
    "In this part, you should train your network in Problem 3-1. The loss function is Cross Entropy loss, learning rate is 1e-2, epoch is 10, optimizer is SGD. Please print the loss of each epoch and save the final model as \"./model/model.pth\"."
   ]
  },
  {
   "cell_type": "code",
   "execution_count": 5,
   "metadata": {},
   "outputs": [
    {
     "name": "stdout",
     "output_type": "stream",
     "text": [
      "Files already downloaded and verified\n",
      "The size of training set is: 50000\n",
      "-------1 epoch starting-------\n",
      "epoch：1, Loss: 1.8112249374389648\n",
      "-------2 epoch starting-------\n",
      "epoch：2, Loss: 1.5830020904541016\n",
      "-------3 epoch starting-------\n",
      "epoch：3, Loss: 1.7640626430511475\n",
      "-------4 epoch starting-------\n",
      "epoch：4, Loss: 1.835424780845642\n",
      "-------5 epoch starting-------\n",
      "epoch：5, Loss: 1.0777113437652588\n",
      "-------6 epoch starting-------\n",
      "epoch：6, Loss: 1.0899240970611572\n",
      "-------7 epoch starting-------\n",
      "epoch：7, Loss: 1.5634037256240845\n",
      "-------8 epoch starting-------\n",
      "epoch：8, Loss: 1.185918927192688\n",
      "-------9 epoch starting-------\n",
      "epoch：9, Loss: 1.1509898900985718\n",
      "-------10 epoch starting-------\n",
      "epoch：10, Loss: 1.1384997367858887\n",
      "Model saving\n",
      "Finish!\n"
     ]
    }
   ],
   "source": [
    "import torch\n",
    "import torchvision\n",
    "\n",
    "from torch import nn\n",
    "from torch.utils.data import DataLoader\n",
    "\n",
    "# use GPU or CPU\n",
    "device = torch.device('cuda' if torch.cuda.is_available() else 'cpu')\n",
    "\n",
    "# set random seed\n",
    "def setup_seed(seed):\n",
    "     torch.manual_seed(seed)\n",
    "     torch.cuda.manual_seed_all(seed)\n",
    "     np.random.seed(seed)\n",
    "     torch.backends.cudnn.deterministic = True\n",
    "setup_seed(20)\n",
    "\n",
    "# training dataset\n",
    "train_data = torchvision.datasets.CIFAR10(root=\"./data\", train=True, transform=torchvision.transforms.ToTensor(),\n",
    "                                         download=True)\n",
    "                                         \n",
    "# Build Dataloader, batch_size is 64\n",
    "train_dataloader = DataLoader(train_data, batch_size=64, shuffle=True)\n",
    "\n",
    "# you should design the training process\n",
    "\n",
    "net = Net()\n",
    "\n",
    "loss_fn = nn.CrossEntropyLoss()\n",
    "learning_rate = 1e-2\n",
    "optimizer = torch.optim.SGD(net.parameters(), lr=learning_rate)\n",
    "epoch = 10\n",
    "\n",
    "print('The size of training set is:',len(train_data))\n",
    "\n",
    "for i in range(epoch):\n",
    "    print(f\"-------{i+1} epoch starting-------\")\n",
    "\n",
    "    #net.train()\n",
    "    for data in train_dataloader:\n",
    "        imgs, targets = data\n",
    "        outputs = net(imgs)\n",
    "        loss = loss_fn(outputs, targets)\n",
    "        optimizer.zero_grad()\n",
    "        loss.backward()\n",
    "        optimizer.step()\n",
    "\n",
    "    print(\"epoch：{}, Loss: {}\".format(i+1, loss.item()))\n",
    "\n",
    "print('Model saving')\n",
    "torch.save(net, \"./model/model.pth\")\n",
    "print('Finish!')\n",
    "\n"
   ]
  },
  {
   "cell_type": "markdown",
   "metadata": {},
   "source": [
    "### Problem 3-3: Test on the testing set. (25 points)"
   ]
  },
  {
   "cell_type": "markdown",
   "metadata": {},
   "source": [
    "Load the testing set and print the accuracy. The accuracy is the average accuracy of all samples."
   ]
  },
  {
   "cell_type": "code",
   "execution_count": 6,
   "metadata": {},
   "outputs": [
    {
     "name": "stdout",
     "output_type": "stream",
     "text": [
      "Files already downloaded and verified\n",
      "test accuracy: 0.4659000039100647\n"
     ]
    }
   ],
   "source": [
    "import torch\n",
    "import torchvision\n",
    "\n",
    "#from model import *\n",
    "\n",
    "from torch import nn\n",
    "from torch.utils.data import DataLoader\n",
    "\n",
    "device = torch.device('cuda' if torch.cuda.is_available() else 'cpu')\n",
    "test_data = torchvision.datasets.CIFAR10(root=\"./data\", train=False, transform=torchvision.transforms.ToTensor(),download=True)\n",
    "test_data_size = len(test_data)                                         \n",
    "test_dataloader = DataLoader(test_data, batch_size=64)\n",
    "\n",
    "# you should design the testing process\n",
    "\n",
    "#net.eval()\n",
    "net = torch.load(\"./model/model.pth\")\n",
    "total_test_loss = 0\n",
    "total_accuracy = 0\n",
    "\n",
    "with torch.no_grad():\n",
    "    for data in test_dataloader:\n",
    "        imgs, targets = data\n",
    "        outputs = net(imgs)\n",
    "        loss = loss_fn(outputs, targets)\n",
    "        total_test_loss = total_test_loss + loss.item()\n",
    "        accuracy = (outputs.argmax(1) == targets).sum()\n",
    "        total_accuracy = total_accuracy + accuracy\n",
    "\n",
    "print(\"test accuracy: {}\".format(total_accuracy/test_data_size))\n",
    "\n"
   ]
  },
  {
   "cell_type": "markdown",
   "metadata": {},
   "source": [
    "## And this concludes Lab 1! Congratulations!"
   ]
  }
 ],
 "metadata": {
  "kernelspec": {
   "display_name": "Python 3 (ipykernel)",
   "language": "python",
   "name": "python3"
  },
  "language_info": {
   "codemirror_mode": {
    "name": "ipython",
    "version": 3
   },
   "file_extension": ".py",
   "mimetype": "text/x-python",
   "name": "python",
   "nbconvert_exporter": "python",
   "pygments_lexer": "ipython3",
   "version": "3.9.13"
  }
 },
 "nbformat": 4,
 "nbformat_minor": 1
}
