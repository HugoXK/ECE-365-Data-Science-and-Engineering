{
 "cells": [
  {
   "cell_type": "markdown",
   "id": "d264e6f2",
   "metadata": {},
   "source": [
    "# Part 2, Lab #3: Bag of Visual Words"
   ]
  },
  {
   "cell_type": "markdown",
   "id": "e7e26563",
   "metadata": {},
   "source": [
    "Ke Xu 3190110360"
   ]
  },
  {
   "cell_type": "markdown",
   "id": "b904db6c",
   "metadata": {},
   "source": [
    "### Due April 13th, 2023 11:59 PM CST\n",
    "#### Logistics and Lab Submission\n",
    "See the **BlackBoard**.\n",
    "#### What You Will Need To Know For This Lab"
   ]
  },
  {
   "cell_type": "markdown",
   "id": "977c4771",
   "metadata": {},
   "source": [
    "This lab covers:\n",
    "\n",
    "- Learning Bag of Visual Features.\n",
    "\n",
    "The submission procedure is provided below:\n",
    "- You will be provided with a Jupyter Notebook for this lab where you need to implement the provided functions as needed for each question. Follow the instructions provided in this Jupyter Notebook (.ipynb) to implement the required functions. \n",
    "- Upload the **PDF** (screen shot) file of your Jupyter Notebook (.ipynb file).\n",
    "- Your grades and feedbacks will appear on BlackBoard. You will have a chance to re-submit your code, only if you have *reasonable* submissions before the deadline (i.e. not an empty script)."
   ]
  },
  {
   "cell_type": "markdown",
   "id": "61c31d56",
   "metadata": {},
   "source": [
    "# Problem 1: Training"
   ]
  },
  {
   "cell_type": "markdown",
   "id": "3da5124d",
   "metadata": {},
   "source": [
    "1. import packages."
   ]
  },
  {
   "cell_type": "code",
   "execution_count": 1,
   "id": "8892da60",
   "metadata": {},
   "outputs": [
    {
     "name": "stdout",
     "output_type": "stream",
     "text": [
      "Requirement already satisfied: scikit-learn in /opt/anaconda3/lib/python3.8/site-packages (0.24.1)\n",
      "Requirement already satisfied: scipy>=0.19.1 in /opt/anaconda3/lib/python3.8/site-packages (from scikit-learn) (1.6.2)\n",
      "Requirement already satisfied: numpy>=1.13.3 in /opt/anaconda3/lib/python3.8/site-packages (from scikit-learn) (1.20.1)\n",
      "Requirement already satisfied: threadpoolctl>=2.0.0 in /opt/anaconda3/lib/python3.8/site-packages (from scikit-learn) (2.1.0)\n",
      "Requirement already satisfied: joblib>=0.11 in /opt/anaconda3/lib/python3.8/site-packages (from scikit-learn) (1.0.1)\n",
      "Requirement already satisfied: matplotlib in /opt/anaconda3/lib/python3.8/site-packages (3.3.4)\n",
      "Requirement already satisfied: python-dateutil>=2.1 in /opt/anaconda3/lib/python3.8/site-packages (from matplotlib) (2.8.1)\n",
      "Requirement already satisfied: pyparsing!=2.0.4,!=2.1.2,!=2.1.6,>=2.0.3 in /opt/anaconda3/lib/python3.8/site-packages (from matplotlib) (2.4.7)\n",
      "Requirement already satisfied: cycler>=0.10 in /opt/anaconda3/lib/python3.8/site-packages (from matplotlib) (0.10.0)\n",
      "Requirement already satisfied: numpy>=1.15 in /opt/anaconda3/lib/python3.8/site-packages (from matplotlib) (1.20.1)\n",
      "Requirement already satisfied: pillow>=6.2.0 in /opt/anaconda3/lib/python3.8/site-packages (from matplotlib) (8.2.0)\n",
      "Requirement already satisfied: kiwisolver>=1.0.1 in /opt/anaconda3/lib/python3.8/site-packages (from matplotlib) (1.3.1)\n",
      "Requirement already satisfied: six in /opt/anaconda3/lib/python3.8/site-packages (from cycler>=0.10->matplotlib) (1.15.0)\n"
     ]
    }
   ],
   "source": [
    "!pip install scikit-learn\n",
    "!pip install matplotlib"
   ]
  },
  {
   "cell_type": "code",
   "execution_count": 2,
   "id": "f4e2e486",
   "metadata": {},
   "outputs": [],
   "source": [
    "import cv2\n",
    "import numpy as np \n",
    "import os\n",
    "from sklearn.cluster import KMeans\n",
    "from sklearn.svm import SVC\n",
    "from sklearn.preprocessing import StandardScaler\n",
    "from matplotlib import pyplot as plt\n",
    "from sklearn import svm, datasets\n",
    "from sklearn.model_selection import train_test_split\n",
    "from sklearn.metrics import confusion_matrix\n",
    "from sklearn.utils.multiclass import unique_labels\n",
    "from sklearn.metrics.pairwise import chi2_kernel\n",
    "from sklearn.model_selection import GridSearchCV\n",
    "from sklearn.metrics import accuracy_score"
   ]
  },
  {
   "cell_type": "markdown",
   "id": "6c5dcc43",
   "metadata": {},
   "source": [
    "2. Define the function before the training."
   ]
  },
  {
   "cell_type": "code",
   "execution_count": 3,
   "id": "7effd850",
   "metadata": {},
   "outputs": [],
   "source": [
    "def getFiles(train, path):\n",
    "    images = []\n",
    "    count = 0\n",
    "    for folder in os.listdir(path):\n",
    "        for file in  os.listdir(os.path.join(path, folder)):\n",
    "            images.append(os.path.join(path, os.path.join(folder, file)))\n",
    "\n",
    "    if(train is True):\n",
    "        np.random.shuffle(images)\n",
    "    \n",
    "    return images\n",
    "\n",
    "def getDescriptors(sift, img):\n",
    "    kp, des = sift.detectAndCompute(img, None)\n",
    "    return des\n",
    "\n",
    "def readImage(img_path):\n",
    "    img = cv2.imread(img_path, 0)\n",
    "    return cv2.resize(img,(150,150))\n",
    "\n",
    "def vstackDescriptors(descriptor_list):\n",
    "    descriptors = np.array(descriptor_list[0])\n",
    "    for descriptor in descriptor_list[1:]:\n",
    "        descriptors = np.vstack((descriptors, descriptor)) \n",
    "\n",
    "    return descriptors\n",
    "\n",
    "def normalizeFeatures(scale, features):\n",
    "    return scale.transform(features)\n",
    "\n",
    "def plotHistogram(im_features, no_clusters):\n",
    "    x_scalar = np.arange(no_clusters)\n",
    "    y_scalar = np.array([abs(np.sum(im_features[:,h], dtype=np.int32)) for h in range(no_clusters)])\n",
    "\n",
    "    plt.bar(x_scalar, y_scalar)\n",
    "    plt.xlabel(\"Visual Word Index\")\n",
    "    plt.ylabel(\"Frequency\")\n",
    "    plt.title(\"Complete Vocabulary Generated\")\n",
    "    plt.xticks(x_scalar + 0.4, x_scalar)\n",
    "    plt.show()\n",
    "\n",
    "def svcParamSelection(X, y, kernel, nfolds):\n",
    "    Cs = [0.5, 0.1, 0.15, 0.2, 0.3]\n",
    "    gammas = [0.1, 0.11, 0.095, 0.105]\n",
    "    param_grid = {'C': Cs, 'gamma' : gammas}\n",
    "    grid_search = GridSearchCV(SVC(kernel=kernel), param_grid, cv=nfolds)\n",
    "    grid_search.fit(X, y)\n",
    "    grid_search.best_params_\n",
    "    return grid_search.best_params_\n",
    "\n",
    "def plotConfusionMatrix(y_true, y_pred, classes,\n",
    "                          normalize=False,\n",
    "                          title=None,\n",
    "                          cmap=plt.cm.Blues):\n",
    "    if not title:\n",
    "        if normalize:\n",
    "            title = 'Normalized confusion matrix'\n",
    "        else:\n",
    "            title = 'Confusion matrix, without normalization'\n",
    "\n",
    "    cm = confusion_matrix(y_true, y_pred)\n",
    "    if normalize:\n",
    "        cm = cm.astype('float') / cm.sum(axis=1)[:, np.newaxis]\n",
    "        print(\"Normalized confusion matrix\")\n",
    "    else:\n",
    "        print('Confusion matrix, without normalization')\n",
    "\n",
    "    print(cm)\n",
    "\n",
    "    fig, ax = plt.subplots()\n",
    "    im = ax.imshow(cm, interpolation='nearest', cmap=cmap)\n",
    "    ax.figure.colorbar(im, ax=ax)\n",
    "    ax.set(xticks=np.arange(cm.shape[1]),\n",
    "           yticks=np.arange(cm.shape[0]),\n",
    "           xticklabels=classes, yticklabels=classes,\n",
    "           title=title,\n",
    "           ylabel='True label',\n",
    "           xlabel='Predicted label')\n",
    "\n",
    "    plt.setp(ax.get_xticklabels(), rotation=45, ha=\"right\",\n",
    "             rotation_mode=\"anchor\")\n",
    "\n",
    "    fmt = '.2f' if normalize else 'd'\n",
    "    thresh = cm.max() / 2.\n",
    "    for i in range(cm.shape[0]):\n",
    "        for j in range(cm.shape[1]):\n",
    "            ax.text(j, i, format(cm[i, j], fmt),\n",
    "                    ha=\"center\", va=\"center\",\n",
    "                    color=\"white\" if cm[i, j] > thresh else \"black\")\n",
    "    fig.tight_layout()\n",
    "    return ax\n",
    "\n",
    "def plotConfusions(true, predictions):\n",
    "    np.set_printoptions(precision=2)\n",
    "\n",
    "    class_names = [\"city\", \"face\", \"green\", \"house_building\", \"house_indoor\", \"office\", \"sea\"]\n",
    "    plotConfusionMatrix(true, predictions, classes=class_names,\n",
    "                      title='Confusion matrix, without normalization')\n",
    "\n",
    "    plotConfusionMatrix(true, predictions, classes=class_names, normalize=True,\n",
    "                      title='Normalized confusion matrix')\n",
    "\n",
    "    plt.show()\n",
    "\n",
    "def findAccuracy(true, predictions):\n",
    "    print ('accuracy score: %0.3f' % accuracy_score(true, predictions))"
   ]
  },
  {
   "cell_type": "markdown",
   "id": "ff6bdca3",
   "metadata": {},
   "source": [
    "3. Design the cluster descriptors by K-means. **Please fill the function.**"
   ]
  },
  {
   "cell_type": "code",
   "execution_count": 4,
   "id": "5a637326",
   "metadata": {},
   "outputs": [
    {
     "name": "stdout",
     "output_type": "stream",
     "text": [
      "Train images path detected.\n",
      "Descriptors vstacked.\n",
      "Descriptors clustered.\n"
     ]
    }
   ],
   "source": [
    "def clusterDescriptors(descriptors, no_clusters):\n",
    "    kmeans = KMeans(n_clusters=no_clusters).fit(descriptors) \n",
    "    # https://scikit-learn.org/stable/modules/generated/sklearn.cluster.KMeans.html\n",
    "    return kmeans\n",
    " \n",
    "train_path = './dataset/train/'\n",
    "no_clusters = 50\n",
    "kernel = 'linear'\n",
    "\n",
    "images = getFiles(True, train_path)\n",
    "print(\"Train images path detected.\")\n",
    "sift = cv2.SIFT_create()\n",
    "descriptor_list = []\n",
    "train_labels = np.array([])\n",
    "label_count = 7\n",
    "image_count = len(images)\n",
    "\n",
    "for img_path in images:\n",
    "    if(\"city\" in img_path):\n",
    "        class_index = 0\n",
    "    elif(\"face\" in img_path):\n",
    "        class_index = 1\n",
    "    elif(\"green\" in img_path):\n",
    "        class_index = 2\n",
    "    elif(\"house_building\" in img_path):\n",
    "        class_index = 3\n",
    "    elif(\"house_indoor\" in img_path):\n",
    "        class_index = 4\n",
    "    elif(\"office\" in img_path):\n",
    "        class_index = 5\n",
    "    else:\n",
    "        class_index = 6\n",
    "\n",
    "    train_labels = np.append(train_labels, class_index)\n",
    "    img = readImage(img_path)\n",
    "    des = getDescriptors(sift, img)\n",
    "    descriptor_list.append(des)\n",
    "\n",
    "descriptors = vstackDescriptors(descriptor_list)\n",
    "print(\"Descriptors vstacked.\")\n",
    "\n",
    "kmeans = clusterDescriptors(descriptors, no_clusters) # Please wait for several minutes during the clustering\n",
    "print(\"Descriptors clustered.\")"
   ]
  },
  {
   "cell_type": "markdown",
   "id": "eb44e336",
   "metadata": {},
   "source": [
    "4. Extract the feature. Please design the function to extract features, you should fill the **im_features** matrix with the feature of the descriptor."
   ]
  },
  {
   "cell_type": "code",
   "execution_count": 5,
   "id": "9456422f",
   "metadata": {},
   "outputs": [
    {
     "name": "stdout",
     "output_type": "stream",
     "text": [
      "Images features extracted.\n",
      "Train images normalized.\n"
     ]
    },
    {
     "data": {
      "image/png": "[encoded data removed]",
      "text/plain": [
       "<Figure size 432x288 with 1 Axes>"
      ]
     },
     "metadata": {
      "needs_background": "light"
     },
     "output_type": "display_data"
    },
    {
     "name": "stdout",
     "output_type": "stream",
     "text": [
      "Features histogram plotted.\n"
     ]
    }
   ],
   "source": [
    "def extractFeatures(kmeans, descriptor_list, image_count, no_clusters): \n",
    "    # Extract Image Features\n",
    "    im_features = np.array([np.zeros(no_clusters) for i in range(image_count)])\n",
    "    for i in range(image_count):\n",
    "        for j in range(len(descriptor_list[i])):\n",
    "            feature = descriptor_list[i][j] \n",
    "            feature = feature.reshape(1, 128)\n",
    "            idx = kmeans.predict(feature)\n",
    "            im_features[i][idx] += 1\n",
    "    return im_features \n",
    "\n",
    "im_features = extractFeatures(kmeans, descriptor_list, image_count, no_clusters)\n",
    "print(\"Images features extracted.\")\n",
    "\n",
    "scale = StandardScaler().fit(im_features)        \n",
    "im_features = scale.transform(im_features)\n",
    "print(\"Train images normalized.\")\n",
    "\n",
    "plotHistogram(im_features, no_clusters)\n",
    "print(\"Features histogram plotted.\")\n"
   ]
  },
  {
   "cell_type": "markdown",
   "id": "e414ed58",
   "metadata": {},
   "source": [
    "5. Design the SVM for fitting."
   ]
  },
  {
   "cell_type": "code",
   "execution_count": 6,
   "id": "b4434619",
   "metadata": {},
   "outputs": [
    {
     "name": "stdout",
     "output_type": "stream",
     "text": [
      "0.1 0.1\n",
      "SVM fitted.\n",
      "Training completed.\n"
     ]
    }
   ],
   "source": [
    "def findSVM(im_features, train_labels, kernel):\n",
    "    features = im_features\n",
    "    if(kernel == \"precomputed\"):\n",
    "        features = np.dot(im_features, im_features.T)\n",
    "    \n",
    "    params = svcParamSelection(features, train_labels, kernel, 5)\n",
    "    C_param, gamma_param = params.get(\"C\"), params.get(\"gamma\")\n",
    "    print(C_param, gamma_param)\n",
    "    class_weight = {\n",
    "        0: (807 / (7 * 140)),\n",
    "        1: (807 / (7 * 140)),\n",
    "        2: (807 / (7 * 133)),\n",
    "        3: (807 / (7 * 70)),\n",
    "        4: (807 / (7 * 42)),\n",
    "        5: (807 / (7 * 140)),\n",
    "        6: (807 / (7 * 142)) \n",
    "    }\n",
    "  \n",
    "    svm = SVC(kernel=kernel, C= C_param, gamma=gamma_param, class_weight=class_weight)\n",
    "    # https://scikit-learn.org/stable/modules/svm.html\n",
    "    svm.fit(features, train_labels)\n",
    "    return svm\n",
    "\n",
    "svm = findSVM(im_features, train_labels, kernel)\n",
    "print(\"SVM fitted.\")\n",
    "print(\"Training completed.\")"
   ]
  },
  {
   "cell_type": "markdown",
   "id": "a05caa7a",
   "metadata": {},
   "source": [
    "# Problem 2: Testing\n",
    "Testing and output the results."
   ]
  },
  {
   "cell_type": "code",
   "execution_count": 7,
   "id": "6e1aa726",
   "metadata": {},
   "outputs": [
    {
     "name": "stdout",
     "output_type": "stream",
     "text": [
      "Test images path detected.\n",
      "Test images classified.\n",
      "Confusion matrix, without normalization\n",
      "[[18  0  7  0  2  0  3]\n",
      " [ 0 21  4  0  3  0  2]\n",
      " [ 6  2 16  2  0  1  3]\n",
      " [ 3  0  0 17 10  0  0]\n",
      " [ 0  1  2  8 13  6  0]\n",
      " [ 1  0  4  7  9  9  0]\n",
      " [ 1  4  4  2  2  0 16]]\n",
      "Normalized confusion matrix\n",
      "[[0.6  0.   0.23 0.   0.07 0.   0.1 ]\n",
      " [0.   0.7  0.13 0.   0.1  0.   0.07]\n",
      " [0.2  0.07 0.53 0.07 0.   0.03 0.1 ]\n",
      " [0.1  0.   0.   0.57 0.33 0.   0.  ]\n",
      " [0.   0.03 0.07 0.27 0.43 0.2  0.  ]\n",
      " [0.03 0.   0.13 0.23 0.3  0.3  0.  ]\n",
      " [0.03 0.14 0.14 0.07 0.07 0.   0.55]]\n"
     ]
    },
    {
     "data": {
      "image/png": "[encoded data removed]",
      "text/plain": [
       "<Figure size 432x288 with 2 Axes>"
      ]
     },
     "metadata": {
      "needs_background": "light"
     },
     "output_type": "display_data"
    },
    {
     "data": {
      "image/png": "[encoded data removed]",
      "text/plain": [
       "<Figure size 432x288 with 2 Axes>"
      ]
     },
     "metadata": {
      "needs_background": "light"
     },
     "output_type": "display_data"
    },
    {
     "name": "stdout",
     "output_type": "stream",
     "text": [
      "Confusion matrixes plotted.\n",
      "accuracy score: 0.526\n",
      "Accuracy calculated.\n",
      "Execution done.\n"
     ]
    }
   ],
   "source": [
    "test_path = './dataset/test/'\n",
    "test_images = getFiles(False, test_path)\n",
    "print(\"Test images path detected.\")\n",
    "\n",
    "count = 0\n",
    "true = []\n",
    "descriptor_list = []\n",
    "\n",
    "name_dict =\t{\n",
    "    \"0\": \"city\",\n",
    "    \"1\": \"face\",\n",
    "    \"2\": \"green\",\n",
    "    \"3\": \"house_building\",\n",
    "    \"4\": \"house_indoor\",\n",
    "    \"5\": \"office\",\n",
    "    \"6\": \"sea\"\n",
    "}\n",
    "\n",
    "sift = cv2.SIFT_create()\n",
    "\n",
    "for img_path in test_images:\n",
    "    img = readImage(img_path)\n",
    "    des = getDescriptors(sift, img)\n",
    "\n",
    "    if(des is not None):\n",
    "        count += 1\n",
    "        descriptor_list.append(des)\n",
    "\n",
    "        if(\"city\" in img_path):\n",
    "            true.append(\"city\")\n",
    "        elif(\"face\" in img_path):\n",
    "            true.append(\"face\")\n",
    "        elif(\"green\" in img_path):\n",
    "            true.append(\"green\")\n",
    "        elif(\"house_building\" in img_path):\n",
    "            true.append(\"house_building\")\n",
    "        elif(\"house_indoor\" in img_path):\n",
    "            true.append(\"house_indoor\")\n",
    "        elif(\"office\" in img_path):\n",
    "            true.append(\"office\")\n",
    "        else:\n",
    "            true.append(\"sea\")\n",
    "\n",
    "descriptors = vstackDescriptors(descriptor_list)\n",
    "\n",
    "test_features = extractFeatures(kmeans, descriptor_list, count, no_clusters)\n",
    "\n",
    "test_features = scale.transform(test_features)\n",
    "\n",
    "kernel_test = test_features\n",
    "if(kernel == \"precomputed\"):\n",
    "    kernel_test = np.dot(test_features, im_features.T)\n",
    "\n",
    "predictions = [name_dict[str(int(i))] for i in svm.predict(kernel_test)]\n",
    "print(\"Test images classified.\")\n",
    "\n",
    "plotConfusions(true, predictions)\n",
    "print(\"Confusion matrixes plotted.\")\n",
    "\n",
    "findAccuracy(true, predictions)\n",
    "print(\"Accuracy calculated.\")\n",
    "print(\"Execution done.\")"
   ]
  }
 ],
 "metadata": {
  "kernelspec": {
   "display_name": "Python 3",
   "language": "python",
   "name": "python3"
  },
  "language_info": {
   "codemirror_mode": {
    "name": "ipython",
    "version": 3
   },
   "file_extension": ".py",
   "mimetype": "text/x-python",
   "name": "python",
   "nbconvert_exporter": "python",
   "pygments_lexer": "ipython3",
   "version": "3.8.8"
  }
 },
 "nbformat": 4,
 "nbformat_minor": 5
}
