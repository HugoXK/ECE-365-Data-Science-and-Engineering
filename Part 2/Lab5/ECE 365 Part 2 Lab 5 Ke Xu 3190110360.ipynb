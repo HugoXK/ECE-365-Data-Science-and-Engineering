{
 "cells": [
  {
   "cell_type": "markdown",
   "id": "a69ed7ed",
   "metadata": {},
   "source": [
    "# Part 2, Lab #5: Image Segmentation"
   ]
  },
  {
   "cell_type": "markdown",
   "id": "53d640f5",
   "metadata": {},
   "source": [
    "Ke Xu 3190110360"
   ]
  },
  {
   "cell_type": "markdown",
   "id": "1c7ab9d5",
   "metadata": {},
   "source": [
    "### Due April 28th, 2023 11:59 PM CST\n",
    "#### Logistics and Lab Submission\n",
    "See the **BlackBoard**.\n",
    "#### What You Will Need To Know For This Lab"
   ]
  },
  {
   "cell_type": "markdown",
   "id": "3d45aa96",
   "metadata": {},
   "source": [
    "This lab covers:\n",
    "\n",
    "- Image Segmentation using K-Means.\n",
    "- Background Subtraction.\n",
    "\n",
    "The submission procedure is provided below:\n",
    "- You will be provided with a Jupyter Notebook for this lab where you need to implement the provided functions as needed for each question. Follow the instructions provided in this Jupyter Notebook (.ipynb) to implement the required functions. \n",
    "- Upload the **PDF** (screen shot) file of your Jupyter Notebook (.ipynb file).\n",
    "- Your grades and feedbacks will appear on BlackBoard. You will have a chance to re-submit your code, only if you have *reasonable* submissions before the deadline (i.e. not an empty script)."
   ]
  },
  {
   "cell_type": "markdown",
   "id": "81553b7c",
   "metadata": {},
   "source": [
    "# Problem 1: Image Segmentation using K-means\n",
    "1. Importing the libraries."
   ]
  },
  {
   "cell_type": "code",
   "execution_count": 1,
   "id": "d1c4c8f0",
   "metadata": {},
   "outputs": [
    {
     "name": "stdout",
     "output_type": "stream",
     "text": [
      "(330, 500, 3)\n"
     ]
    }
   ],
   "source": [
    "import matplotlib.pyplot as plt\n",
    "import numpy as np\n",
    "import cv2\n",
    "\n",
    "root_path = '/Users/xuke/Desktop/lab5_part2' # please input your root path\n",
    "im =  cv2.imread('{}/elephant.jpg'.format(root_path)) # Reads an image into BGR Format\n",
    "im = cv2.cvtColor(im,cv2.COLOR_BGR2RGB)\n",
    "original_shape = im.shape\n",
    "print(im.shape)"
   ]
  },
  {
   "cell_type": "markdown",
   "id": "a7b5b404",
   "metadata": {},
   "source": [
    "2. K-means clustering, suppose the number of clusters is 4, please fullfill this function. You can refer from [this link](https://scikit-learn.org/stable/modules/generated/sklearn.cluster.KMeans.html)."
   ]
  },
  {
   "cell_type": "code",
   "execution_count": 2,
   "id": "1c827da5",
   "metadata": {},
   "outputs": [
    {
     "name": "stdout",
     "output_type": "stream",
     "text": [
      "all_pixels shape is: (165000, 3)\n"
     ]
    },
    {
     "data": {
      "text/plain": [
       "KMeans(n_clusters=4)"
      ]
     },
     "execution_count": 2,
     "metadata": {},
     "output_type": "execute_result"
    }
   ],
   "source": [
    "from sklearn.cluster import KMeans\n",
    "\n",
    "# Flatten Each channel of the Image\n",
    "all_pixels  = im.reshape(-1,im.shape[-1])\n",
    "print('all_pixels shape is:', all_pixels.shape)\n",
    "\n",
    "# K-means\n",
    "km = KMeans(algorithm='auto',copy_x=True, init='k-means++', max_iter=300, n_clusters=4, \n",
    "            n_init=10, random_state=None, tol=0.0001, verbose=0)\n",
    "km.fit(all_pixels)"
   ]
  },
  {
   "cell_type": "markdown",
   "id": "cc21547d",
   "metadata": {},
   "source": [
    "__Please note that, parameters 'n_jobs' and 'precompute_distances' are omitted due to the warnings below:__\n",
    "\n",
    "/opt/anaconda3/lib/python3.8/site-packages/sklearn/cluster/_kmeans.py:786: FutureWarning: 'precompute_distances' was deprecated in version 0.23 and will be removed in 1.0 (renaming of 0.25). It has no effect\n",
    "  warnings.warn(\"'precompute_distances' was deprecated in version \"\n",
    "/opt/anaconda3/lib/python3.8/site-packages/sklearn/cluster/_kmeans.py:792: FutureWarning: 'n_jobs' was deprecated in version 0.23 and will be removed in 1.0 (renaming of 0.25).\n",
    "  warnings.warn(\"'n_jobs' was deprecated in version 0.23 and will be\""
   ]
  },
  {
   "cell_type": "markdown",
   "id": "f07fa96f",
   "metadata": {},
   "source": [
    "3. Print the cluster center and convert to Integer format."
   ]
  },
  {
   "cell_type": "code",
   "execution_count": 3,
   "id": "08911608",
   "metadata": {},
   "outputs": [
    {
     "name": "stdout",
     "output_type": "stream",
     "text": [
      "[[ 37.95984119  35.23062478  64.42122488]\n",
      " [174.73914956 145.22706209 128.26355225]\n",
      " [ 98.53372841  94.7141551  117.78049441]\n",
      " [  1.49597475   0.83632573   1.15406   ]]\n"
     ]
    }
   ],
   "source": [
    "centers = km.cluster_centers_\n",
    "print(centers)"
   ]
  },
  {
   "cell_type": "code",
   "execution_count": 4,
   "id": "c70235bb",
   "metadata": {},
   "outputs": [
    {
     "name": "stdout",
     "output_type": "stream",
     "text": [
      "[[ 37  35  64]\n",
      " [174 145 128]\n",
      " [ 98  94 117]\n",
      " [  1   0   1]]\n"
     ]
    }
   ],
   "source": [
    "centers = np.array(centers,dtype='uint8')\n",
    "print(centers)"
   ]
  },
  {
   "cell_type": "markdown",
   "id": "ca362710",
   "metadata": {},
   "source": [
    "4. Plot what all colors are these ? "
   ]
  },
  {
   "cell_type": "code",
   "execution_count": 5,
   "id": "e008d628",
   "metadata": {},
   "outputs": [
    {
     "data": {
      "image/png": "[encoded data removed]",
      "text/plain": [
       "<Figure size 576x144 with 4 Axes>"
      ]
     },
     "metadata": {
      "needs_background": "light"
     },
     "output_type": "display_data"
    }
   ],
   "source": [
    "i = 1\n",
    "\n",
    "plt.figure(0,figsize=(8,2))\n",
    "\n",
    "# Storing info in color array by centers\n",
    "colors = []\n",
    "\n",
    "for each_col in centers:\n",
    "    plt.subplot(1,4,i)\n",
    "    plt.axis(\"off\")\n",
    "    i+=1\n",
    "    \n",
    "    colors.append(each_col)\n",
    "    \n",
    "    # Color Swatch\n",
    "    a = np.zeros((100,100,3),dtype='uint8')\n",
    "    a[:,:,:] = each_col\n",
    "    plt.imshow(a)\n",
    "    \n",
    "plt.show()"
   ]
  },
  {
   "cell_type": "markdown",
   "id": "78f73a7e",
   "metadata": {},
   "source": [
    "5. Segmenting our original image. You should create a blank image with the same shape of the origin image. Then use **colors** and **K-means labels** to fullfill the new image."
   ]
  },
  {
   "cell_type": "code",
   "execution_count": 6,
   "id": "79fe38ee",
   "metadata": {},
   "outputs": [
    {
     "name": "stdout",
     "output_type": "stream",
     "text": [
      "(165000, 3)\n"
     ]
    }
   ],
   "source": [
    "new_img = np.zeros((165000, 3),dtype='uint8') # please input the size of the image\n",
    "print(new_img.shape)"
   ]
  },
  {
   "cell_type": "code",
   "execution_count": 7,
   "id": "8b5c70f9",
   "metadata": {},
   "outputs": [
    {
     "name": "stdout",
     "output_type": "stream",
     "text": [
      "[array([37, 35, 64], dtype=uint8), array([174, 145, 128], dtype=uint8), array([ 98,  94, 117], dtype=uint8), array([1, 0, 1], dtype=uint8)]\n",
      "[0 0 0 ... 3 3 3]\n"
     ]
    }
   ],
   "source": [
    "print(colors)\n",
    "print(km.labels_)"
   ]
  },
  {
   "cell_type": "code",
   "execution_count": 8,
   "id": "e09c8e95",
   "metadata": {},
   "outputs": [
    {
     "data": {
      "image/png": "[encoded data removed]",
      "text/plain": [
       "<Figure size 432x288 with 1 Axes>"
      ]
     },
     "metadata": {
      "needs_background": "light"
     },
     "output_type": "display_data"
    }
   ],
   "source": [
    "# Iterate over the image\n",
    "for ix in range(new_img.shape[0]):\n",
    "    # fullfill the function\n",
    "    new_img[ix] = colors[km.labels_[ix]]\n",
    "    \n",
    "new_img = new_img.reshape((original_shape))\n",
    "plt.imshow(new_img)\n",
    "plt.show()"
   ]
  },
  {
   "cell_type": "markdown",
   "id": "0e8fb710",
   "metadata": {},
   "source": [
    "# Problem 2: Background Subtraction\n",
    "We will familiarize with the background subtraction methods available in OpenCV."
   ]
  },
  {
   "cell_type": "markdown",
   "id": "0346b801",
   "metadata": {},
   "source": [
    "BackgroundSubtractorMOG, you can refer from [this link](https://docs.opencv.org/3.4/d7/d7b/classcv_1_1BackgroundSubtractorMOG2.html)."
   ]
  },
  {
   "cell_type": "code",
   "execution_count": 9,
   "id": "89a97541",
   "metadata": {
    "scrolled": false
   },
   "outputs": [
    {
     "data": {
      "image/png": "[encoded data removed]",
      "text/plain": [
       "<Figure size 432x288 with 1 Axes>"
      ]
     },
     "metadata": {
      "needs_background": "light"
     },
     "output_type": "display_data"
    }
   ],
   "source": [
    "import numpy as np\n",
    "import cv2\n",
    "import matplotlib.pyplot as plt\n",
    "from PIL import Image\n",
    "\n",
    "cap = cv2.VideoCapture('vtest.avi')\n",
    "# Please design the function by using cv2.createBackgroundSubtractorMOG2()\n",
    "\n",
    "fgbg =  cv2.createBackgroundSubtractorMOG2()\n",
    "\n",
    "i = 0\n",
    "while(1):\n",
    "    ret, frame = cap.read()\n",
    "\n",
    "    fgmask = fgbg.apply(frame) # Please fullfill this function\n",
    "     \n",
    "    i+=1\n",
    "    if i == 30:\n",
    "        cv2.imwrite('MOG.jpg', fgmask)\n",
    "        break\n",
    "\n",
    "img=Image.open('MOG.jpg')\n",
    "plt.imshow(img)\n",
    "plt.show()"
   ]
  }
 ],
 "metadata": {
  "kernelspec": {
   "display_name": "Python 3",
   "language": "python",
   "name": "python3"
  },
  "language_info": {
   "codemirror_mode": {
    "name": "ipython",
    "version": 3
   },
   "file_extension": ".py",
   "mimetype": "text/x-python",
   "name": "python",
   "nbconvert_exporter": "python",
   "pygments_lexer": "ipython3",
   "version": "3.8.8"
  }
 },
 "nbformat": 4,
 "nbformat_minor": 5
}
